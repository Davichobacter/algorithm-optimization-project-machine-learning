{
  "cells": [
    {
      "cell_type": "markdown",
      "id": "27b09e13",
      "metadata": {
        "id": "27b09e13"
      },
      "source": [
        "# Problemas de optimización de algoritmos"
      ]
    },
    {
      "cell_type": "markdown",
      "id": "ed05e9bf",
      "metadata": {
        "id": "ed05e9bf"
      },
      "source": [
        "## Ejercicio 1\n",
        "### Optimización de código para procesamiento de texto\n",
        "\n",
        "Se te ha entregado un código de procesamiento de texto que realiza las siguientes operaciones:\n",
        "\n",
        "1. Convierte todo el texto a minúsculas.\n",
        "2. Elimina los signos de puntuación.\n",
        "3. Cuenta la frecuencia de cada palabra.\n",
        "4. Muestra las 5 palabras mas comunes.\n",
        "\n",
        "El código funciona, pero es ineficiente y puede optimizarse. Tu tarea es identificar las áreas que pueden ser mejoradas y reescribir esas partes para hacer el código mas eficiente y legible.\n"
      ]
    },
    {
      "cell_type": "code",
      "execution_count": 1,
      "id": "8467465b",
      "metadata": {
        "colab": {
          "base_uri": "https://localhost:8080/"
        },
        "id": "8467465b",
        "outputId": "0468c832-6986-4a8e-9beb-b08705a8f194"
      },
      "outputs": [
        {
          "output_type": "stream",
          "name": "stdout",
          "text": [
            "'the': 5 times\n",
            "'of': 3 times\n",
            "'in': 2 times\n",
            "'a': 2 times\n",
            "'she': 2 times\n"
          ]
        }
      ],
      "source": [
        "import string\n",
        "\n",
        "def process_text(text):\n",
        "    # Texto a minuscula\n",
        "    text = text.lower()\n",
        "\n",
        "    # Eliminación de puntuaciones\n",
        "    for p in string.punctuation:\n",
        "        text = text.replace(p, \"\")\n",
        "\n",
        "    # Split text into words\n",
        "    words = text.split()\n",
        "\n",
        "    # Conteo de frecuencias\n",
        "    frequencies = {}\n",
        "    for w in words:\n",
        "        if w in frequencies:\n",
        "            frequencies[w] += 1\n",
        "        else:\n",
        "            frequencies[w] = 1\n",
        "\n",
        "    sorted_frequencies = sorted(frequencies.items(), key = lambda x: x[1], reverse = True)\n",
        "\n",
        "    # Obtener las 5 palabras más comunes\n",
        "    top_5 = sorted_frequencies[:5]\n",
        "\n",
        "    for w, frequency in top_5:\n",
        "        print(f\"'{w}': {frequency} times\")\n",
        "\n",
        "text = \"\"\"\n",
        "    In the heart of the city, Emily discovered a quaint little café, hidden away from the bustling streets.\n",
        "    The aroma of freshly baked pastries wafted through the air, drawing in passersby. As she sipped on her latte,\n",
        "    she noticed an old bookshelf filled with classics, creating a cozy atmosphere that made her lose track of time.\n",
        "\"\"\"\n",
        "process_text(text)"
      ]
    },
    {
      "cell_type": "markdown",
      "id": "29040779",
      "metadata": {
        "id": "29040779"
      },
      "source": [
        "Puntos a optimizar:\n",
        "\n",
        "1. **Eliminar los signos de puntuación**: Usar `replace`  en un ciclo puede ser ineficiente, especialmente con textos largos. Busca una formas eficiente de eliminar los signos de puntuación.\n",
        "2. **Contador de frecuencia**: El código verifica la existencia de cada palabra en el diccionario y luego actualiza su cuenta. Esto puede hacerse mas eficientemente con ciertas estructuras de datos en Python.\n",
        "3. **Ordenar y seleccionar:** Considera si hay una forma mas directa o efectiva de obtener las 5 palabras mas frecuentes sin ordenar todas las palabras.\n",
        "4. **Modularidad**: Divide el código en funciones mas pequeñas para que cada una puede realizar una tarea específica. Esto no solo optimizará el desempeño, sino también hará el código mas legible y mantenible."
      ]
    },
    {
      "cell_type": "code",
      "execution_count": 2,
      "id": "57cd6641",
      "metadata": {
        "colab": {
          "base_uri": "https://localhost:8080/"
        },
        "id": "57cd6641",
        "outputId": "85fc47d8-7e5a-463a-ade4-b85edd65863c"
      },
      "outputs": [
        {
          "output_type": "stream",
          "name": "stdout",
          "text": [
            "--- Texto Original ---\n",
            "\n",
            "In the heart of the city, Emily discovered a quaint little café, hidden away from the bustling streets.\n",
            "The aroma of freshly baked pastries wafted through the air, drawing in passersby. As she sipped on her latte,\n",
            "she noticed an old bookshelf filled with classics, creating a cozy atmosphere that made her lose track of time.\n",
            "        \n",
            "\n",
            "--- Las 5 palabras más frecuentes ---\n",
            "'the': 5 veces\n",
            "'of': 3 veces\n",
            "'in': 2 veces\n",
            "'a': 2 veces\n",
            "'she': 2 veces\n"
          ]
        }
      ],
      "source": [
        "# TODO\n",
        "import string\n",
        "from collections import Counter\n",
        "\n",
        "def normalize_text(text):\n",
        "    text = text.lower()\n",
        "    translator = str.maketrans('', '', string.punctuation)\n",
        "    return text.translate(translator)\n",
        "\n",
        "def get_word_frequencies(text):\n",
        "    words = text.split()\n",
        "    return Counter(words)\n",
        "\n",
        "def get_top_n_words(frequencies, n):\n",
        "    return frequencies.most_common(n)\n",
        "\n",
        "def process_and_print_top_words(text, top_n):\n",
        "    print(\"--- Texto Original ---\")\n",
        "    print(text)\n",
        "\n",
        "    normalized_text = normalize_text(text)\n",
        "    frequencies = get_word_frequencies(normalized_text)\n",
        "    top_words = get_top_n_words(frequencies, top_n)\n",
        "\n",
        "    print(f\"\\n--- Las {top_n} palabras más frecuentes ---\")\n",
        "    for word, count in top_words:\n",
        "        print(f\"'{word}': {count} veces\")\n",
        "\n",
        "\n",
        "text =  \"\"\"\n",
        "In the heart of the city, Emily discovered a quaint little café, hidden away from the bustling streets.\n",
        "The aroma of freshly baked pastries wafted through the air, drawing in passersby. As she sipped on her latte,\n",
        "she noticed an old bookshelf filled with classics, creating a cozy atmosphere that made her lose track of time.\n",
        "        \"\"\"\n",
        "\n",
        "process_and_print_top_words(text, 5)"
      ]
    },
    {
      "cell_type": "markdown",
      "id": "011996bc",
      "metadata": {
        "id": "011996bc"
      },
      "source": [
        "## Ejercicio 2\n",
        "### Optimización de código para procesamiento de listas\n",
        "\n",
        "Se te ha dado el siguiente código que realiza operaciones en una lista de números para:\n",
        "\n",
        "1. Filtrar los números pares.\n",
        "2. Duplicar cada número.\n",
        "3. Sumar todos los números.\n",
        "4. Verificar si el resultado es un número primo.\n",
        "\n",
        "El código entregado logra los objetivos, pero puede ser ineficiente. Tu tarea es identificar y mejorar las partes de ese código para mejorar su eficiencia."
      ]
    },
    {
      "cell_type": "code",
      "execution_count": 3,
      "id": "783d03a0",
      "metadata": {
        "colab": {
          "base_uri": "https://localhost:8080/"
        },
        "id": "783d03a0",
        "outputId": "cd733fb0-be83-49b8-b951-6c32d79ae69a"
      },
      "outputs": [
        {
          "output_type": "stream",
          "name": "stdout",
          "text": [
            "Result: 60, ¿Prime? No\n"
          ]
        }
      ],
      "source": [
        "import math\n",
        "\n",
        "def is_prime(n):\n",
        "    if n <= 1:\n",
        "        return False\n",
        "    for i in range(2, int(math.sqrt(n)) + 1):\n",
        "        if n % i == 0:\n",
        "            return False\n",
        "    return True\n",
        "\n",
        "def process_list(list_):\n",
        "    filtered_list = []\n",
        "    for num in list_:\n",
        "        if num % 2 == 0:\n",
        "            filtered_list.append(num)\n",
        "\n",
        "    duplicate_list = []\n",
        "    for num in filtered_list:\n",
        "        duplicate_list.append(num * 2)\n",
        "\n",
        "    sum = 0\n",
        "    for num in duplicate_list:\n",
        "        sum += num\n",
        "\n",
        "    prime = is_prime(sum)\n",
        "\n",
        "    return sum, prime\n",
        "\n",
        "list_ = [1, 2, 3, 4, 5, 6, 7, 8, 9, 10]\n",
        "result, result_prime = process_list(list_)\n",
        "print(f\"Result: {result}, ¿Prime? {'Yes' if result_prime else 'No'}\")"
      ]
    },
    {
      "cell_type": "markdown",
      "id": "128d564e",
      "metadata": {
        "id": "128d564e"
      },
      "source": [
        "Puntos a optimizar:\n",
        "\n",
        "1. **Filtrar las números**: El código recorre la lista original para filtrar los números pares. Considera una forma mas eficiente de filtrar la lista.\n",
        "2. **Duplicación**: La lista es atravesada varias veces. ¿Hay alguna manera de hacer esto mas eficientemente?\n",
        "3. **Suma**: Los números en la lista se suman a traves de un bucle. Python trae incluidas unas funciones que pueden optimizar esto.\n",
        "4. **Función `is_prime`**: Aunque ésta función es relativamente eficiente, investiga si hay maneras de hacerla aun más rápida.\n",
        "5. **Modularidad**: Considera dividir el código en funciones más pequeñas, cada una enfocada en una tarea específica."
      ]
    },
    {
      "cell_type": "code",
      "execution_count": 4,
      "id": "f40e35d6",
      "metadata": {
        "colab": {
          "base_uri": "https://localhost:8080/"
        },
        "id": "f40e35d6",
        "outputId": "e88633a8-d03f-4f2b-c4e4-540849095e67"
      },
      "outputs": [
        {
          "output_type": "stream",
          "name": "stdout",
          "text": [
            "Result: 60, ¿Prime? No\n"
          ]
        }
      ],
      "source": [
        "# TODO\n",
        "\n",
        "import math\n",
        "\n",
        "def is_prime(n):\n",
        "    if n <= 1: return False\n",
        "    return all(n % i != 0 for i in range(2, int(math.sqrt(n)) + 1))\n",
        "\n",
        "def process_list(numbers):\n",
        "    total = sum(num * 2 for num in numbers if num % 2 == 0)\n",
        "    return total, is_prime(total)\n",
        "\n",
        "list_ = [1, 2, 3, 4, 5, 6, 7, 8, 9, 10]\n",
        "result, result_prime = process_list(list_)\n",
        "print(f\"Result: {result}, ¿Prime? {'Yes' if result_prime else 'No'}\")\n"
      ]
    },
    {
      "cell_type": "markdown",
      "id": "1af70806",
      "metadata": {
        "id": "1af70806"
      },
      "source": [
        "Ambos ejercicios  ayudarán a mejorar tu habilidad de optimizar el desempeño del código y te darán un mejor entendimiento de como las diferentes estructuras de datos y técnicas de programación pueden afectar la eficiencia de tu código."
      ]
    }
  ],
  "metadata": {
    "interpreter": {
      "hash": "9248718ffe6ce6938b217e69dbcc175ea21f4c6b28a317e96c05334edae734bb"
    },
    "kernelspec": {
      "display_name": "Python 3 (ipykernel)",
      "language": "python",
      "name": "python3"
    },
    "language_info": {
      "codemirror_mode": {
        "name": "ipython",
        "version": 3
      },
      "file_extension": ".py",
      "mimetype": "text/x-python",
      "name": "python",
      "nbconvert_exporter": "python",
      "pygments_lexer": "ipython3",
      "version": "3.11.4"
    },
    "colab": {
      "provenance": []
    }
  },
  "nbformat": 4,
  "nbformat_minor": 5
}